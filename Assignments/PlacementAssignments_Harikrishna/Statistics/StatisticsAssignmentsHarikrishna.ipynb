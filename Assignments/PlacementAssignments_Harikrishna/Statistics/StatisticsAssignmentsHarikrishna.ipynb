{
 "cells": [
  {
   "attachments": {},
   "cell_type": "markdown",
   "id": "0ebf7e7f",
   "metadata": {},
   "source": [
    "> For questions 3,7,10,11,12 you can find individual notebookd in the same directory!"
   ]
  },
  {
   "attachments": {},
   "cell_type": "markdown",
   "id": "f67b0c9e",
   "metadata": {},
   "source": [
    "### Question 1\n",
    "A university wants to understand the relationship between the SAT scores of its applicants and their college GPA. They collect data on 500 students, including their SAT scores (out of 1600) and their college GPA (on a 4.0 scale). They find that the correlation coefficient between SAT scores and college GPA is 0.7. What does this correlation coefficient indicate about the relationship between SAT scores and college GPA?\n"
   ]
  },
  {
   "attachments": {},
   "cell_type": "markdown",
   "id": "79d3ed02",
   "metadata": {},
   "source": [
    "*Ans:*\n",
    "    \n",
    "The correlation coefficient of 0.7 indicates a strong positive relationship between SAT scores and college GPA. A correlation coefficient ranges from -1 to +1, where 1 represents a perfect positive relationship, -1 represents a perfect negative relationship, and 0 represents no relationship."
   ]
  },
  {
   "attachments": {},
   "cell_type": "markdown",
   "id": "216270e7",
   "metadata": {},
   "source": [
    "### Question 2\n",
    "\n",
    "Consider a dataset containing the heights (in centimeters) of 1000 individuals. The mean height is 170 cm with a standard deviation of 10 cm. The dataset is approximately normally distributed, and its skewness is approximately zero. Based on this information, answer the following questions:\n",
    "\n"
   ]
  },
  {
   "attachments": {},
   "cell_type": "markdown",
   "id": "678b8fbe",
   "metadata": {},
   "source": [
    "##### What percentage of individuals in the dataset have heights between 160 cm and 180 cm?"
   ]
  },
  {
   "attachments": {},
   "cell_type": "markdown",
   "id": "3f7f0625",
   "metadata": {},
   "source": [
    "*Ans:*\n",
    "\n",
    "The mean height = 170 cm\n",
    "\n",
    "The standard deviation = 10 cm\n",
    "\n",
    "\n",
    "To find the percentage of individuals between 160 cm and 180 cm, we need to calculate the number of standard deviations these values are from the mean:\n",
    "\n",
    "- For 160 cm:\n",
    "  Number of standard deviations = (160 - 170) / 10 = -1\n",
    "\n",
    "- For 180 cm:\n",
    "  Number of standard deviations = (180 - 170) / 10 = 1\n",
    "\n",
    "According to the empirical rule, approximately 68% of the data falls within one standard deviation of the mean, 95% falls within two standard deviations, and 99.7% falls within three standard deviations.\n",
    "\n",
    "As the data is approximately normally distributed and the skewness is approximately zero, we can estimate that the percentage of individuals with heights between 160 cm and 180 cm is approximately 68%."
   ]
  },
  {
   "cell_type": "code",
   "execution_count": null,
   "id": "d3362d65",
   "metadata": {},
   "outputs": [],
   "source": [
    "from scipy.stats import norm\n",
    "\n",
    "#Given\n",
    "mean = 170\n",
    "std = 10\n",
    "\n",
    "percentage = norm.cdf(180, loc=mean, scale=std) - norm.cdf(160, loc=mean, scale=std)\n",
    "percentage *= 100\n",
    "\n",
    "print(percentage)"
   ]
  },
  {
   "attachments": {},
   "cell_type": "markdown",
   "id": "fc2d9dba",
   "metadata": {},
   "source": [
    "##### If we randomly select 100 individuals from the dataset, what is the probability that their average height is greater than 175 cm?"
   ]
  },
  {
   "attachments": {},
   "cell_type": "markdown",
   "id": "c9219cce",
   "metadata": {},
   "source": [
    "*Ans:*\n",
    "\n",
    "For this we can use Central Limit Theorem. The Central Limit Theorem States that if we have a population mean and standard deviation and take sufficiently lagre random sample from population with replacement, then the distribution of sample mean will be approximatetly normally distributed.\n",
    "\n",
    "mean = 170 cm\n",
    "standard deviation = 10 cm\n",
    "\n",
    "the standard deviation of the sample means, also known as the standard error of the mean, will be the population standard deviation divided by the square root of the sample size. In this case, the sample size is 100:\n",
    "\n",
    "Standard error of the mean = 10 / sqrt(100) = 1\n",
    "\n",
    "To find the probability, we need to calculate the z-score for a height of 175 cm:\n",
    "\n",
    "z = (175 - 170) / 1 = 5\n",
    "\n",
    "In z-score standard normal distribution table z-score of 5 is very large, the probability will be extremely small, close to zero.\n"
   ]
  },
  {
   "cell_type": "code",
   "execution_count": null,
   "id": "090336cf",
   "metadata": {},
   "outputs": [],
   "source": [
    "from scipy.stats import norm\n",
    "\n",
    "sample_size = 100\n",
    "mean_height = 170\n",
    "std_dev = 10\n",
    "\n",
    "sample_mean = mean_height\n",
    "sample_std_dev = std_dev / (sample_size ** 0.5)\n",
    "\n",
    "z_score = (175 - sample_mean) / sample_std_dev\n",
    "probability = 1 - norm.cdf(z_score)\n",
    "\n",
    "print(f'{probability:.4f}')"
   ]
  },
  {
   "attachments": {},
   "cell_type": "markdown",
   "id": "9da02163",
   "metadata": {},
   "source": [
    "##### Assuming the dataset follows a normal distribution, what is the z-score corresponding to a height of 185 cm?"
   ]
  },
  {
   "attachments": {},
   "cell_type": "markdown",
   "id": "f1063a15",
   "metadata": {},
   "source": [
    "*Ans:*\n",
    "\n",
    "To find the z-score corresponding to a height of 185 cm\n",
    "\n",
    "z_score = (height - mean) / standard deviation\n",
    "\n",
    "In this case:\n",
    "\n",
    "height = 185 cm\n",
    "\n",
    "mean = 170 cm\n",
    "\n",
    "standard deviation = 10 cm\n",
    "\n",
    "z = (185 - 170) / 10 = 1.5\n",
    "\n",
    "\n",
    "Therefore, The z-score corresponding to a height of 185 cm is 1.5."
   ]
  },
  {
   "cell_type": "code",
   "execution_count": null,
   "id": "cf182227",
   "metadata": {},
   "outputs": [],
   "source": [
    "height = 185\n",
    "mean = 170\n",
    "std_dev = 10\n",
    "\n",
    "z_score = (height - mean) / std_dev\n",
    "\n",
    "print(f\"The z-score corresponding to a height of 185 cm is: {z_score:.2f}\")"
   ]
  },
  {
   "attachments": {},
   "cell_type": "markdown",
   "id": "9aa7d081",
   "metadata": {},
   "source": [
    "##### We know that 5% of the dataset has heights below a certain value. What is the approximate height corresponding to this threshold?"
   ]
  },
  {
   "attachments": {},
   "cell_type": "markdown",
   "id": "376f548c",
   "metadata": {},
   "source": [
    "*Ans:*\n",
    "\n",
    "To find the approximate height corresponding to the threshold below which 5% of the dataset falls, we can use the z-score.\n",
    "\n",
    "Since the data is approximately normally distributed and the skewness is approximately zero, we can use the standard normal distribution table to find the z-score corresponding to a cumulative probability of 5%.\n",
    "This z-score will give us the number of standard deviations below the mean.\n",
    "\n",
    "From the standard normal distribution table, a cumulative probability of 5% corresponds to a z-score of approximately -1.645.\n",
    "\n",
    "Using the z-score formula, we can solve for the height:\n",
    "\n",
    "z_score = (height - mean) / standard deviation\n",
    "\n",
    "-1.645 = (height - 170) / 10\n",
    "\n",
    "height = -1.645 * 10 + 170 = 153.55\n",
    "\n",
    "Therefore, the approximate height corresponding to the threshold below which 5% of the dataset falls is approximately 153.55 cm."
   ]
  },
  {
   "cell_type": "code",
   "execution_count": null,
   "id": "f68f6b79",
   "metadata": {},
   "outputs": [],
   "source": [
    "from scipy.stats import norm\n",
    "\n",
    "mean = 170\n",
    "std = 10\n",
    "percentile = 5\n",
    "\n",
    "threshold = norm.ppf(percentile / 100, loc=mean, scale=std)\n",
    "\n",
    "print(threshold)"
   ]
  },
  {
   "attachments": {},
   "cell_type": "markdown",
   "id": "d93925b7",
   "metadata": {},
   "source": [
    "##### Calculate the coefficient of variation (CV) for the dataset."
   ]
  },
  {
   "attachments": {},
   "cell_type": "markdown",
   "id": "4843f7c5",
   "metadata": {},
   "source": [
    "*Ans:*\n",
    "\n",
    "The coefficient of variation (CV) is a measure of relative variability and is calculated as the ratio of the standard deviation to the mean, expressed as a percentage. \n",
    "\n",
    "To calculate the CV for the dataset, we can use the following formula:\n",
    "\n",
    "CV = (standard deviation / mean) * 100\n",
    "\n",
    "mean = 170\n",
    "\n",
    "std = 10\n",
    "\n",
    "CV = (10 / 170) * 100 = 5.88%\n",
    "\n",
    "Therefore, the coefficient of variation for the dataset is approximately 5.88%."
   ]
  },
  {
   "cell_type": "code",
   "execution_count": null,
   "id": "055ef090",
   "metadata": {},
   "outputs": [],
   "source": [
    "mean = 170\n",
    "std = 10\n",
    "cv = (std / mean) * 100\n",
    "\n",
    "print(cv)"
   ]
  },
  {
   "attachments": {},
   "cell_type": "markdown",
   "id": "2ed48652",
   "metadata": {},
   "source": [
    "##### Calculate the skewness of the dataset and interpret the result."
   ]
  },
  {
   "attachments": {},
   "cell_type": "markdown",
   "id": "8d2b113d",
   "metadata": {},
   "source": [
    "*Ans:*\n",
    "\n",
    "Skewness is a measure of the asymmetry of a distribution. The dataset is symmetrically distributed. In this case, since the skewness is approximately zero indicates that skewness value is approximately zero , we can interpret it as the dataset being relatively symmetric, meaning there is no significant tail to the left or right.\n",
    "\n",
    "This suggests that the heights of the individuals in the dataset are evenly distributed around the mean, with an equal number of individuals above and below the mean height.\n",
    "\n",
    "> Skewness = 0"
   ]
  },
  {
   "cell_type": "markdown",
   "id": "3a509f76",
   "metadata": {},
   "source": []
  },
  {
   "attachments": {},
   "cell_type": "markdown",
   "id": "15948f05",
   "metadata": {},
   "source": [
    "### Question 4\n",
    "A group of 20 friends decide to play a game in which they each write a number between 1 and 20 on a slip of paper and put it into a hat. They then draw one slip of paper at random. What is the probability that the number on the slip of paper is a perfect square (i.e., 1, 4, 9, or 16)?\n"
   ]
  },
  {
   "attachments": {},
   "cell_type": "markdown",
   "id": "45ae552b",
   "metadata": {},
   "source": [
    "*Ans:*\n",
    "\n",
    "To calculate the probability that the number drawn from the hat is a perfect square (1, 4, 9, or 16), we need to determine the number of favorable outcomes and the total number of possible outcomes.\n",
    "\n",
    "Total no.of possible Outcomes:\n",
    "Since there are 20 slips of paper in the hat, each with a distinct number from 1 to 20, the total number of possible outcomes is 20.\n",
    "\n",
    "no.of favorable Outcomes:\n",
    "Out of the 20 numbers, there are four perfect squares: 1, 4, 9, and 16. These are the favorable outcomes.\n",
    "\n",
    "Probability:\n",
    "The probability of an event is calculated by dividing the number of favorable outcomes by the total number of possible outcomes.\n",
    "\n",
    "Probability = no.of favorable outcomes / Total no.of possible putcomes\n",
    "\n",
    "Probability = 4 (No.of favorable outcomes) / 20 (Total no.of possible outcomes)\n",
    "            = 1/5\n",
    "            = 0.2\n",
    "            = 20%\n",
    "\n",
    "Therefore, the probability that the number drawn from the hat is a perfect square is 20%."
   ]
  },
  {
   "attachments": {},
   "cell_type": "markdown",
   "id": "d78340ec",
   "metadata": {},
   "source": [
    "### Question 5\n",
    "A certain city has two taxi companies: Company A has 80% of the taxis and Company B has 20% of the taxis. Company A's taxis have a 95% success rate for picking up passengers on time, while Company B's taxis have a 90% success rate. If a randomly selected taxi is late, what is the probability that it belongs to Company A?"
   ]
  },
  {
   "attachments": {},
   "cell_type": "markdown",
   "id": "4bc9b573",
   "metadata": {},
   "source": [
    "*Ans:*\n",
    "\n",
    "To find the probability that a randomly selected taxi, which is late, belongs to Company A, we can use Bayes' theorem. \n",
    "\n",
    "defining events:\n",
    "- A: The taxi belongs to Company A.\n",
    "- B: The taxi is late.\n",
    "- P(A|B) = the probability that the taxi belongs to Company A given that it is late.\n",
    "\n",
    "According to the problem statement:\n",
    "- P(A) = 0.8 (Company A has 80% of the taxis)\n",
    "- P(B|A) = 0.05 (Company A's taxis have a 95% success rate for picking up passengers on time)\n",
    "- P(B|not A) = 0.1 (Company B's taxis have a 90% success rate for picking up passengers on time)\n",
    "\n",
    "Bayes' theorem states:\n",
    "P(A|B) = (P(B|A) * P(A)) / (P(B|A) * P(A) + P(B|not A) * P(not A))\n",
    "\n",
    "P(not A) is the probability that the taxi does not belong to Company A\n",
    "\n",
    "P(not A) = 1 - P(A) = 1 - 0.8 = 0.2\n",
    "\n",
    "Now substituting the values into Bayes' theorem and calculate P(A|B):\n",
    "\n",
    "P(A|B) = (0.05 * 0.8) / (0.05 * 0.8 + 0.1 * 0.2)\n",
    "       = 0.04 / (0.04 + 0.02)\n",
    "       = 0.04 / 0.06\n",
    "       ≈ 0.6667\n",
    "\n",
    "Therefore, the probability that a randomly selected taxi, which is late, belongs to Company A is approximately 0.6667 or 66.67%."
   ]
  },
  {
   "attachments": {},
   "cell_type": "markdown",
   "id": "96630298",
   "metadata": {},
   "source": [
    "### Question 6\n",
    "A pharmaceutical company is developing a drug that is supposed to reduce blood pressure. They conduct a clinical trial with 100 patients and record their blood pressure before and after taking the drug. The company wants to know if the change in blood pressure follows a normal distribution. [dataset](https://drive.google.com/file/d/1mCjtYHiX--mMUjicuaP2gH3k-SnFxt8Y/view?usp=share_)"
   ]
  },
  {
   "attachments": {},
   "cell_type": "markdown",
   "id": "85eff40f",
   "metadata": {},
   "source": [
    "*Ans:*\n",
    "\n",
    "To determine if the change in blood pressure follows a normal distribution, the pharmaceutical company can perform a normality test on the data collected from the clinical trial. One commonly used statistical test for normality is the Shapiro-Wilk test.\n",
    "\n",
    "The Shapiro-Wilk test assesses the null hypothesis that the data follows a normal distribution. If the p-value associated with the test is greater than the chosen significance level (typically 0.05), then there is not enough evidence to reject the null hypothesis, suggesting that the data may follow a normal distribution."
   ]
  },
  {
   "cell_type": "code",
   "execution_count": null,
   "id": "c7093704",
   "metadata": {},
   "outputs": [],
   "source": [
    "import numpy as np\n",
    "from scipy import stats\n",
    "import pandas as pd\n",
    "\n",
    "df = pd.read_csv('data.csv')\n",
    "\n",
    "# Compute the change in blood pressure\n",
    "blood_pressure_change = df[' Blood Pressure Before (mmHg)'] - df[' Blood Pressure After (mmHg)']\n",
    "\n",
    "# Perform Shapiro-Wilk test\n",
    "p_value = stats.shapiro(blood_pressure_change)[1]\n",
    "\n",
    "# Interpret the result\n",
    "alpha = 0.05  # Significance level\n",
    "if p_value > alpha:\n",
    "    print(\"The change in blood pressure follows a normal distribution.\")\n",
    "else:\n",
    "    print(\"The change in blood pressure does not follow a normal distribution.\")"
   ]
  },
  {
   "attachments": {},
   "cell_type": "markdown",
   "id": "c4d02f22",
   "metadata": {},
   "source": [
    "### Question 8 \n",
    "The anxiety levels of 10 participants were measured before and after a new therapy. The scores are not normally distributed. Use the Wilcoxon signed-rank test to test whether the therapy had a significant effect on anxiety levels. The data is given below: Participant Before therapy After therapy Difference"
   ]
  },
  {
   "cell_type": "code",
   "execution_count": null,
   "id": "0ca1e87b",
   "metadata": {},
   "outputs": [],
   "source": [
    "import numpy as np\n",
    "import scipy.stats as stats\n",
    "\n",
    "before_therapy = [10,8,12,15,6,9,11,7,14,10]\n",
    "after_therapy = [7,6,10,12,5,8,9,6,12,8]\n",
    "differences = np.array(after_therapy) - np.array(before_therapy)\n",
    "\n",
    "# Perform the Wilcoxon signed-rank test\n",
    "statistic, p_value = stats.wilcoxon(differences)\n",
    "\n",
    "# significance level\n",
    "alpha = 0.05\n",
    "\n",
    "# Check for the therapy had a significant effect on anxiety levels\n",
    "if p_value < alpha:\n",
    "    print(\"The therapy had a significant effect on anxiety levels.\")\n",
    "else:\n",
    "    print(\"The therapy did not have a significant effect on anxiety levels.\")\n",
    "\n",
    "# Print the test statistic and p-value\n",
    "print(\"Test statistic:\", statistic)\n",
    "print(\"p-value:\", p_value)\n",
    "print(differences)"
   ]
  },
  {
   "attachments": {},
   "cell_type": "markdown",
   "id": "84b40952",
   "metadata": {},
   "source": [
    "### Question 9\n",
    "Given the score of students in multiple exams in an image. Test the hypothesis that the mean scores of all the students are the same. If not, name the student with the highest score."
   ]
  },
  {
   "cell_type": "code",
   "execution_count": null,
   "id": "e42e0e9b",
   "metadata": {},
   "outputs": [],
   "source": [
    "import pandas as pd\n",
    "import scipy.stats as stats\n",
    "\n",
    "data = {\n",
    "    'Name': ['Karan', 'Deepa', 'Karthik', 'Chandan', 'Jeevan'],\n",
    "    'Exam1': [85, 70, 90, 75, 95],\n",
    "    'Exam2': [90, 80, 85, 70, 92],\n",
    "    'Final_exam': [92, 85, 88, 75, 96]\n",
    "}\n",
    "\n",
    "score_df = pd.DataFrame(data)\n",
    "\n",
    "# Performing the ANOVA test\n",
    "p_value_anova = stats.f_oneway(score_df['Exam1'], score_df['Exam2'], score_df['Final_exam']).pvalue\n",
    "\n",
    "if p_value_anova < 0.05:\n",
    "    print(\"The mean scores of all students are not the same.\")\n",
    "    \n",
    "    # To Identify the student with the highest score\n",
    "    student_with_highest_score = score_df.loc[score_df['Final_exam'].idxmax(), 'Name']\n",
    "    print(\"The student with the highest score is:\", student_with_highest_score)\n",
    "    \n",
    "else:\n",
    "    print(\"The mean scores of all students are the same.\")"
   ]
  },
  {
   "cell_type": "markdown",
   "id": "5578de29",
   "metadata": {},
   "source": []
  }
 ],
 "metadata": {
  "kernelspec": {
   "display_name": "Python 3 (ipykernel)",
   "language": "python",
   "name": "python3"
  },
  "language_info": {
   "codemirror_mode": {
    "name": "ipython",
    "version": 3
   },
   "file_extension": ".py",
   "mimetype": "text/x-python",
   "name": "python",
   "nbconvert_exporter": "python",
   "pygments_lexer": "ipython3",
   "version": "3.8.5"
  },
  "toc": {
   "base_numbering": 1,
   "nav_menu": {},
   "number_sections": true,
   "sideBar": true,
   "skip_h1_title": false,
   "title_cell": "Table of Contents",
   "title_sidebar": "Contents",
   "toc_cell": false,
   "toc_position": {},
   "toc_section_display": true,
   "toc_window_display": false
  }
 },
 "nbformat": 4,
 "nbformat_minor": 5
}
